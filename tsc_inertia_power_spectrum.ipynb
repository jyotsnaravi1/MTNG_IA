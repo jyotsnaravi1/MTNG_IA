{
 "cells": [
  {
   "cell_type": "code",
   "execution_count": 1,
   "id": "e265825d",
   "metadata": {},
   "outputs": [
    {
     "name": "stderr",
     "output_type": "stream",
     "text": [
      "OMP: Info #276: omp_set_nested routine deprecated, please use omp_set_max_active_levels instead.\n"
     ]
    },
    {
     "name": "stdout",
     "output_type": "stream",
     "text": [
      "   power    \n",
      "------------\n",
      "4.536586e-06\n",
      "   5509.2935\n",
      "    5470.544\n",
      "    4952.895\n",
      "    4792.464\n",
      "   3920.0586\n",
      "   3470.2393\n",
      "   2903.2603\n",
      "   2807.0498\n",
      "   2478.0679\n",
      "         ...\n",
      "   45.843563\n",
      "   44.543266\n",
      "   44.163826\n",
      "   43.167404\n",
      "    43.26461\n",
      "    42.37794\n",
      "      41.691\n",
      "   41.243073\n",
      "   40.697876\n",
      "   40.482494\n",
      "Length = 128 rows\n"
     ]
    }
   ],
   "source": [
    "from pathlib import Path\n",
    "\n",
    "import numpy as np\n",
    "#import pytest\n",
    "\n",
    "from abacusnbody.analysis.power_spectrum import calc_power\n",
    "\n",
    "_curdir = Path('/Users/jyotsnaravi/LAEs in MTNG/data/z = 2/galaxy attributes/SubhaloPos_fp_129.npy').parent\n",
    "DATA_POWER = _curdir / 'data_power'\n",
    "\n",
    "\n",
    "power_test_data = {\n",
    "    \"Lbox\": 500.0,\n",
    "    \"pos\": np.load('/Users/jyotsnaravi/LAEs in MTNG/data/z = 2/galaxy attributes/SubhaloPos_fp_129.npy'),\n",
    "}\n",
    "\n",
    "res = calc_power(\n",
    "    power_test_data['pos'],\n",
    "    power_test_data['Lbox'],\n",
    "    interlaced=True,\n",
    "    compensated=True,\n",
    "    paste='TSC'\n",
    ")\n",
    "\n",
    "print(res['power'])\n"
   ]
  },
  {
   "cell_type": "code",
   "execution_count": 2,
   "id": "aa82c5fa",
   "metadata": {},
   "outputs": [],
   "source": [
    "subhalo_mass = np.load('/Users/jyotsnaravi/MTNG IA/data_214/SubhaloMassType_fp_214.npy')"
   ]
  },
  {
   "cell_type": "code",
   "execution_count": 3,
   "id": "8b265eff",
   "metadata": {},
   "outputs": [],
   "source": [
    "stellar_mass = subhalo_mass[:, 4]"
   ]
  },
  {
   "cell_type": "code",
   "execution_count": 4,
   "id": "753094e2",
   "metadata": {},
   "outputs": [],
   "source": [
    "volume_box = 500 ** 3\n",
    "num_density = 10 ** (-3)\n",
    "num_galaxies = int(volume_box * num_density)"
   ]
  },
  {
   "cell_type": "code",
   "execution_count": 5,
   "id": "987303f2",
   "metadata": {},
   "outputs": [],
   "source": [
    "mass_indicies = np.argsort(stellar_mass)[-num_galaxies:]"
   ]
  },
  {
   "cell_type": "code",
   "execution_count": 58,
   "id": "c78f9ad9",
   "metadata": {
    "scrolled": true
   },
   "outputs": [
    {
     "data": {
      "text/plain": [
       "0.001"
      ]
     },
     "execution_count": 58,
     "metadata": {},
     "output_type": "execute_result"
    }
   ],
   "source": [
    "len(mass_indicies) / volume_box"
   ]
  },
  {
   "cell_type": "code",
   "execution_count": 7,
   "id": "d798ed24",
   "metadata": {},
   "outputs": [],
   "source": [
    "pos = np.load('/Users/jyotsnaravi/MTNG IA/data_214/SubhaloPos_fp_214.npy')\n",
    "pos_mass_selected = pos[mass_indicies]"
   ]
  },
  {
   "cell_type": "code",
   "execution_count": 8,
   "id": "09bdd091",
   "metadata": {},
   "outputs": [
    {
     "data": {
      "text/plain": [
       "(125000, 3)"
      ]
     },
     "execution_count": 8,
     "metadata": {},
     "output_type": "execute_result"
    }
   ],
   "source": [
    "pos_mass_selected.shape"
   ]
  },
  {
   "cell_type": "code",
   "execution_count": 9,
   "id": "ca9104eb",
   "metadata": {},
   "outputs": [],
   "source": [
    "from abacusnbody.analysis.tsc import tsc_parallel\n",
    "N_gal = tsc_parallel(pos_mass_selected, np.zeros((512, 512, 512), dtype=np.float32), 500)"
   ]
  },
  {
   "cell_type": "code",
   "execution_count": 10,
   "id": "f10bfac3",
   "metadata": {},
   "outputs": [],
   "source": [
    "inertia_tensor = np.load('/Users/jyotsnaravi/MTNG IA/data_214/SubhaloIntertiaTensorStars_fp_214.npy')"
   ]
  },
  {
   "cell_type": "code",
   "execution_count": 11,
   "id": "0f651388",
   "metadata": {},
   "outputs": [],
   "source": [
    "inertia_xx = inertia_tensor[:, 0][mass_indicies]\n",
    "inertia_xy = inertia_tensor[:, 1][mass_indicies]\n",
    "inertia_xz = inertia_tensor[:, 2][mass_indicies]\n",
    "inertia_yy = inertia_tensor[:, 3][mass_indicies]\n",
    "inertia_yz = inertia_tensor[:, 4][mass_indicies]\n",
    "inertia_zz = inertia_tensor[:, 5][mass_indicies]"
   ]
  },
  {
   "cell_type": "code",
   "execution_count": 12,
   "id": "1446c729",
   "metadata": {},
   "outputs": [],
   "source": [
    "I_xx = tsc_parallel(pos_mass_selected, np.zeros((512, 512, 512), dtype=np.float32), 500, weights=inertia_xx)"
   ]
  },
  {
   "cell_type": "code",
   "execution_count": 13,
   "id": "3626197c",
   "metadata": {},
   "outputs": [],
   "source": [
    "I_xy = tsc_parallel(pos_mass_selected, np.zeros((512, 512, 512), dtype=np.float32), 500, weights=inertia_xy)  \n",
    "I_xz = tsc_parallel(pos_mass_selected, np.zeros((512, 512, 512), dtype=np.float32), 500, weights=inertia_xz)\n",
    "I_yy = tsc_parallel(pos_mass_selected, np.zeros((512, 512, 512), dtype=np.float32), 500, weights=inertia_yy)\n",
    "I_yz = tsc_parallel(pos_mass_selected, np.zeros((512, 512, 512), dtype=np.float32), 500, weights=inertia_yz)\n",
    "I_zz = tsc_parallel(pos_mass_selected, np.zeros((512, 512, 512), dtype=np.float32), 500, weights=inertia_zz)"
   ]
  },
  {
   "cell_type": "code",
   "execution_count": 72,
   "id": "21560b7d",
   "metadata": {},
   "outputs": [
    {
     "data": {
      "text/plain": [
       "np.float32(129.66322)"
      ]
     },
     "execution_count": 72,
     "metadata": {},
     "output_type": "execute_result"
    }
   ],
   "source": [
    "np.max(I_xx[I_xx !=0])"
   ]
  },
  {
   "cell_type": "code",
   "execution_count": 14,
   "id": "9c8e85ff",
   "metadata": {},
   "outputs": [],
   "source": [
    "N_gal_I_ij = np.zeros((6,) + (512, 512, 512), dtype=np.float32)\n",
    "N_gal_I_ij[0, :, :, :] = I_xx\n",
    "N_gal_I_ij[1, :, :, :] = I_xy\n",
    "N_gal_I_ij[2, :, :, :] = I_xz\n",
    "N_gal_I_ij[3, :, :, :] = I_yy\n",
    "N_gal_I_ij[4, :, :, :] = I_yz\n",
    "N_gal_I_ij[5, :, :, :] = I_zz"
   ]
  },
  {
   "cell_type": "code",
   "execution_count": 15,
   "id": "5849bbcc",
   "metadata": {},
   "outputs": [],
   "source": [
    "#I_ij = np.divide(N_gal_I_ij, N_gal, out=np.zeros_like(N_gal_I_ij), where=(N_gal != 0))"
   ]
  },
  {
   "cell_type": "code",
   "execution_count": 16,
   "id": "320b5b81",
   "metadata": {},
   "outputs": [],
   "source": [
    "def Y_00():\n",
    "    return np.sqrt(1/3) * np.identity(3)\n",
    "\n",
    "def Y_20(k_hat):\n",
    "    return np.sqrt(3/2) * (np.outer(k_hat, k_hat) - np.identity(3)/3)\n",
    "\n",
    "def Y_21(e_basis, k_hat):\n",
    "    return np.sqrt(1/2) *(np.outer(k_hat, e_basis) + np.outer(k_hat, e_basis))\n",
    "\n",
    "def Y_22(e_basis):\n",
    "    return np.outer(e_basis, e_basis)"
   ]
  },
  {
   "cell_type": "code",
   "execution_count": 17,
   "id": "fc7ea5d1",
   "metadata": {},
   "outputs": [],
   "source": [
    "#I_ij_without_trace = I_ij - (1/3) * np.trace"
   ]
  },
  {
   "cell_type": "code",
   "execution_count": 18,
   "id": "7ff80d75",
   "metadata": {},
   "outputs": [],
   "source": [
    "#1. division by mean galaxies in voxel (check)\n",
    "# convert to k-space (meshgrid thing) (check)\n",
    "#2. shape field normalization (2.41) (check)\n",
    "#3. taking out the trace to get trace-free part (check)\n",
    "#transfer to helicity space to get the power-spectrum \n",
    "#eq. 2,5 to get the helicity basis (where n is the LOS (z-direction) except for the I_ijs that are (0, 0, k_z), where we'll set our n to be (1, 00))\n",
    "#convert from ij to lm\n",
    "#then find Pm(ll') for everything"
   ]
  },
  {
   "cell_type": "code",
   "execution_count": 19,
   "id": "ca7c44df",
   "metadata": {},
   "outputs": [
    {
     "name": "stdout",
     "output_type": "stream",
     "text": [
      "/Users/jyotsnaravi/miniconda3/bin/python\n"
     ]
    }
   ],
   "source": [
    "import sys\n",
    "print(sys.executable)"
   ]
  },
  {
   "cell_type": "code",
   "execution_count": null,
   "id": "cc33f4f9",
   "metadata": {},
   "outputs": [],
   "source": []
  },
  {
   "cell_type": "code",
   "execution_count": 20,
   "id": "ae56d3b3",
   "metadata": {},
   "outputs": [],
   "source": [
    "#pick random seed, pick arbitrary x, y, z, normalize, and use this for n_hat\n",
    "#next wednesday at 10 am meeting"
   ]
  },
  {
   "cell_type": "code",
   "execution_count": 21,
   "id": "125ae13a",
   "metadata": {},
   "outputs": [
    {
     "data": {
      "text/plain": [
       "'I_xx_power_3d_bool = (I_xx_power_3d[:, :, 0] == 0) & (I_xx_power_3d[:, :, 1] == 0)\\nindices_xx = np.argwhere(I_xx_power_3d_bool)\\n\\n\\nI_xy_power_3d_bool = (I_xy_power_3d[:, :, 0] == 0) & (I_xy_power_3d[:, :, 1] == 0)\\nindices_xy = np.argwhere(I_xy_power_3d_bool)\\n\\n\\nI_xz_power_3d_bool = (I_xz_power_3d[:, :, 0] == 0) & (I_xz_power_3d[:, :, 1] == 0)\\nindices_xz = np.argwhere(I_xz_power_3d_bool)\\n\\n\\nI_yy_power_3d_bool = (I_yy_power_3d[:, :, 0] == 0) & (I_yy_power_3d[:, :, 1] == 0)\\nindices_yy = np.argwhere(I_yy_power_3d_bool)\\n\\n\\nI_yz_power_3d_bool = (I_yz_power_3d[:, :, 0] == 0) & (I_yz_power_3d[:, :, 1] == 0)\\nindices_yz = np.argwhere(I_yz_power_3d_bool)\\n\\n\\nI_zz_power_3d_bool = (I_zz_power_3d[:, :, 0] == 0) & (I_zz_power_3d[:, :, 1] == 0)\\nindices_zz = np.argwhere(I_zz_power_3d_bool)\\n\\n            \\nI_xx_flattened = I_xx_power_3d.flatten()\\nI_xy_flattened = I_xy_power_3d.flatten()\\nI_xz_flattened = I_xz_power_3d.flatten()\\nI_yy_flattened = I_yy_power_3d.flatten()\\nI_yz_flattened = I_yz_power_3d.flatten()\\nI_zz_flattened = I_zz_power_3d.flatten()'"
      ]
     },
     "execution_count": 21,
     "metadata": {},
     "output_type": "execute_result"
    }
   ],
   "source": [
    "k_space_bins = np.linspace(0, 1, 41)\n",
    "L_box = 500\n",
    "num_bins = 512\n",
    "\n",
    "kx = np.fft.fftfreq(num_bins, d=L_box / num_bins) * 2*np.pi\n",
    "ky = np.fft.fftfreq(num_bins, d=L_box / num_bins) * 2*np.pi\n",
    "kz = np.fft.rfftfreq(num_bins, d=L_box / num_bins) * 2*np.pi\n",
    "kx, ky, kz = np.meshgrid(kx, ky, kz, indexing='ij')\n",
    "k_sq = kx**2 + ky**2 + kz**2\n",
    "k = np.sqrt(k_sq)\n",
    "\n",
    "k_flat = k.flatten()\n",
    "\n",
    "\n",
    "\"\"\"I_xx_power_3d_bool = (I_xx_power_3d[:, :, 0] == 0) & (I_xx_power_3d[:, :, 1] == 0)\n",
    "indices_xx = np.argwhere(I_xx_power_3d_bool)\n",
    "\n",
    "\n",
    "I_xy_power_3d_bool = (I_xy_power_3d[:, :, 0] == 0) & (I_xy_power_3d[:, :, 1] == 0)\n",
    "indices_xy = np.argwhere(I_xy_power_3d_bool)\n",
    "\n",
    "\n",
    "I_xz_power_3d_bool = (I_xz_power_3d[:, :, 0] == 0) & (I_xz_power_3d[:, :, 1] == 0)\n",
    "indices_xz = np.argwhere(I_xz_power_3d_bool)\n",
    "\n",
    "\n",
    "I_yy_power_3d_bool = (I_yy_power_3d[:, :, 0] == 0) & (I_yy_power_3d[:, :, 1] == 0)\n",
    "indices_yy = np.argwhere(I_yy_power_3d_bool)\n",
    "\n",
    "\n",
    "I_yz_power_3d_bool = (I_yz_power_3d[:, :, 0] == 0) & (I_yz_power_3d[:, :, 1] == 0)\n",
    "indices_yz = np.argwhere(I_yz_power_3d_bool)\n",
    "\n",
    "\n",
    "I_zz_power_3d_bool = (I_zz_power_3d[:, :, 0] == 0) & (I_zz_power_3d[:, :, 1] == 0)\n",
    "indices_zz = np.argwhere(I_zz_power_3d_bool)\n",
    "\n",
    "            \n",
    "I_xx_flattened = I_xx_power_3d.flatten()\n",
    "I_xy_flattened = I_xy_power_3d.flatten()\n",
    "I_xz_flattened = I_xz_power_3d.flatten()\n",
    "I_yy_flattened = I_yy_power_3d.flatten()\n",
    "I_yz_flattened = I_yz_power_3d.flatten()\n",
    "I_zz_flattened = I_zz_power_3d.flatten()\"\"\""
   ]
  },
  {
   "cell_type": "code",
   "execution_count": 22,
   "id": "5a0779ad",
   "metadata": {},
   "outputs": [],
   "source": [
    "#I_xx_power_3d[:, 0].shape"
   ]
  },
  {
   "cell_type": "code",
   "execution_count": 23,
   "id": "05f1119f",
   "metadata": {},
   "outputs": [],
   "source": [
    "L_box = 500\n",
    "num_bins = 512\n",
    "\n",
    "#I_ij_normalized = I_ij / (len(mass_indicies) / (num_bins ** 3))\n",
    "I_xx_normalized = I_xx / (len(mass_indicies) / (num_bins ** 3)) #normalization is per voxel\n",
    "I_xy_normalized = I_xy / (len(mass_indicies) / (num_bins ** 3))\n",
    "I_xz_normalized = I_xz / (len(mass_indicies) / (num_bins ** 3))\n",
    "I_yy_normalized = I_yy / (len(mass_indicies) / (num_bins ** 3))\n",
    "I_yz_normalized = I_yz / (len(mass_indicies) / (num_bins ** 3))\n",
    "I_zz_normalized = I_zz / (len(mass_indicies) / (num_bins ** 3))"
   ]
  },
  {
   "cell_type": "code",
   "execution_count": 60,
   "id": "4dca3bd3",
   "metadata": {},
   "outputs": [
    {
     "data": {
      "text/plain": [
       "0.0009313225746154785"
      ]
     },
     "execution_count": 60,
     "metadata": {},
     "output_type": "execute_result"
    }
   ],
   "source": []
  },
  {
   "cell_type": "code",
   "execution_count": 63,
   "id": "c5f65000",
   "metadata": {},
   "outputs": [
    {
     "data": {
      "text/plain": [
       "125000"
      ]
     },
     "execution_count": 63,
     "metadata": {},
     "output_type": "execute_result"
    }
   ],
   "source": [
    "num_galaxies"
   ]
  },
  {
   "cell_type": "code",
   "execution_count": 62,
   "id": "3d7608ad",
   "metadata": {},
   "outputs": [
    {
     "data": {
      "text/plain": [
       "array([5750495, 5488765, 5666401, ...,   42596,   13354,   27463])"
      ]
     },
     "execution_count": 62,
     "metadata": {},
     "output_type": "execute_result"
    }
   ],
   "source": [
    "mass_indicies"
   ]
  },
  {
   "cell_type": "code",
   "execution_count": 31,
   "id": "55f61407",
   "metadata": {},
   "outputs": [
    {
     "data": {
      "text/plain": [
       "np.float32(139224.83)"
      ]
     },
     "execution_count": 31,
     "metadata": {},
     "output_type": "execute_result"
    }
   ],
   "source": [
    "np.max(I_xx_normalized[I_xx_normalized != 0])"
   ]
  },
  {
   "cell_type": "code",
   "execution_count": 50,
   "id": "6f4debe9",
   "metadata": {},
   "outputs": [
    {
     "data": {
      "text/plain": [
       "np.float32(6.7622674e-16)"
      ]
     },
     "execution_count": 50,
     "metadata": {},
     "output_type": "execute_result"
    }
   ],
   "source": [
    "np.min(I_xx_normalized[I_xx_normalized != 0]) #no negatives--makes sense"
   ]
  },
  {
   "cell_type": "code",
   "execution_count": 49,
   "id": "91044d1a",
   "metadata": {},
   "outputs": [
    {
     "data": {
      "text/plain": [
       "array([[[0., 0., 0., ..., 0., 0., 0.],\n",
       "        [0., 0., 0., ..., 0., 0., 0.],\n",
       "        [0., 0., 0., ..., 0., 0., 0.],\n",
       "        ...,\n",
       "        [0., 0., 0., ..., 0., 0., 0.],\n",
       "        [0., 0., 0., ..., 0., 0., 0.],\n",
       "        [0., 0., 0., ..., 0., 0., 0.]],\n",
       "\n",
       "       [[0., 0., 0., ..., 0., 0., 0.],\n",
       "        [0., 0., 0., ..., 0., 0., 0.],\n",
       "        [0., 0., 0., ..., 0., 0., 0.],\n",
       "        ...,\n",
       "        [0., 0., 0., ..., 0., 0., 0.],\n",
       "        [0., 0., 0., ..., 0., 0., 0.],\n",
       "        [0., 0., 0., ..., 0., 0., 0.]],\n",
       "\n",
       "       [[0., 0., 0., ..., 0., 0., 0.],\n",
       "        [0., 0., 0., ..., 0., 0., 0.],\n",
       "        [0., 0., 0., ..., 0., 0., 0.],\n",
       "        ...,\n",
       "        [0., 0., 0., ..., 0., 0., 0.],\n",
       "        [0., 0., 0., ..., 0., 0., 0.],\n",
       "        [0., 0., 0., ..., 0., 0., 0.]],\n",
       "\n",
       "       ...,\n",
       "\n",
       "       [[0., 0., 0., ..., 0., 0., 0.],\n",
       "        [0., 0., 0., ..., 0., 0., 0.],\n",
       "        [0., 0., 0., ..., 0., 0., 0.],\n",
       "        ...,\n",
       "        [0., 0., 0., ..., 0., 0., 0.],\n",
       "        [0., 0., 0., ..., 0., 0., 0.],\n",
       "        [0., 0., 0., ..., 0., 0., 0.]],\n",
       "\n",
       "       [[0., 0., 0., ..., 0., 0., 0.],\n",
       "        [0., 0., 0., ..., 0., 0., 0.],\n",
       "        [0., 0., 0., ..., 0., 0., 0.],\n",
       "        ...,\n",
       "        [0., 0., 0., ..., 0., 0., 0.],\n",
       "        [0., 0., 0., ..., 0., 0., 0.],\n",
       "        [0., 0., 0., ..., 0., 0., 0.]],\n",
       "\n",
       "       [[0., 0., 0., ..., 0., 0., 0.],\n",
       "        [0., 0., 0., ..., 0., 0., 0.],\n",
       "        [0., 0., 0., ..., 0., 0., 0.],\n",
       "        ...,\n",
       "        [0., 0., 0., ..., 0., 0., 0.],\n",
       "        [0., 0., 0., ..., 0., 0., 0.],\n",
       "        [0., 0., 0., ..., 0., 0., 0.]]], dtype=float32)"
      ]
     },
     "execution_count": 49,
     "metadata": {},
     "output_type": "execute_result"
    }
   ],
   "source": [
    "I_xx_normalized"
   ]
  },
  {
   "cell_type": "code",
   "execution_count": 26,
   "id": "d7c511dc",
   "metadata": {},
   "outputs": [],
   "source": [
    "mean_xx = np.mean(I_xx)\n",
    "mean_yy = np.mean(I_yy)\n",
    "mean_zz = np.mean(I_zz)\n",
    "\n",
    "\n",
    "I_ij_trace = mean_xx + mean_yy + mean_zz\n",
    "I_xx_shape_normalization = (I_xx - mean_xx) / I_ij_trace\n",
    "\n",
    "mean_xy = np.mean(I_xy)\n",
    "I_xy_shape_normalization = (I_xy - mean_xy) / I_ij_trace\n",
    "\n",
    "\n",
    "mean_xz = np.mean(I_xz)\n",
    "I_xz_shape_normalization = (I_xz - mean_xz) / I_ij_trace\n",
    "\n",
    "\n",
    "I_yy_shape_normalization = (I_yy - mean_yy) / I_ij_trace\n",
    "\n",
    "\n",
    "mean_yz = np.mean(I_yz)\n",
    "I_yz_shape_normalization = (I_yz - mean_yz) / I_ij_trace\n",
    "\n",
    "\n",
    "I_zz_shape_normalization = (I_zz - mean_zz) / I_ij_trace"
   ]
  },
  {
   "cell_type": "code",
   "execution_count": 77,
   "id": "4973fc05",
   "metadata": {},
   "outputs": [
    {
     "data": {
      "text/plain": [
       "np.float32(-0.3300379)"
      ]
     },
     "execution_count": 77,
     "metadata": {},
     "output_type": "execute_result"
    }
   ],
   "source": [
    "np.min(I_xx_shape_normalization) #very small number compared to the max??"
   ]
  },
  {
   "cell_type": "code",
   "execution_count": 75,
   "id": "a16b10b9",
   "metadata": {},
   "outputs": [
    {
     "data": {
      "text/plain": [
       "np.float32(-201936.39)"
      ]
     },
     "execution_count": 75,
     "metadata": {},
     "output_type": "execute_result"
    }
   ],
   "source": [
    "np.min(I_xy_shape_normalization)"
   ]
  },
  {
   "cell_type": "code",
   "execution_count": 56,
   "id": "8d582edb",
   "metadata": {},
   "outputs": [
    {
     "data": {
      "text/plain": [
       "np.float32(293710.53)"
      ]
     },
     "execution_count": 56,
     "metadata": {},
     "output_type": "execute_result"
    }
   ],
   "source": [
    "np.max(I_xx_shape_normalization) #this number keeps getting bigger with the normalizations but same order of mag"
   ]
  },
  {
   "cell_type": "code",
   "execution_count": 34,
   "id": "e7f201f7",
   "metadata": {},
   "outputs": [],
   "source": [
    "S_ij_trace = I_xx_shape_normalization + I_yy_shape_normalization + I_zz_shape_normalization\n",
    "\n",
    "I_xx_trace_free = I_xx_shape_normalization - (1/3) * S_ij_trace\n",
    "\n",
    "I_xy_trace_free = I_xy_shape_normalization\n",
    "\n",
    "I_xz_trace_free = I_xz_shape_normalization\n",
    "\n",
    "I_yy_trace_free = I_yy_shape_normalization - (1/3) * S_ij_trace\n",
    "\n",
    "I_yz_trace_free = I_yz_shape_normalization\n",
    "\n",
    "I_zz_trace_free = I_zz_shape_normalization - (1/3) * S_ij_trace"
   ]
  },
  {
   "cell_type": "code",
   "execution_count": 51,
   "id": "699d2e82",
   "metadata": {},
   "outputs": [
    {
     "data": {
      "text/plain": [
       "np.float32(-188795.34)"
      ]
     },
     "execution_count": 51,
     "metadata": {},
     "output_type": "execute_result"
    }
   ],
   "source": [
    "np.min(I_xx_trace_free)"
   ]
  },
  {
   "cell_type": "code",
   "execution_count": 38,
   "id": "bf0e594d",
   "metadata": {},
   "outputs": [],
   "source": [
    "I_xx_delta_fft = np.fft.rfftn(I_xx_trace_free)\n",
    "I_xx_power_3d = np.conj(I_xx_delta_fft)*I_xx_delta_fft * L_box ** 3\n",
    "I_xx_power_3d_flattened = I_xx_power_3d.flatten()\n",
    "\n",
    "I_xy_delta_fft = np.fft.rfftn(I_xy_trace_free)\n",
    "I_xy_power_3d = np.conj(I_xy_delta_fft)*I_xy_delta_fft * L_box ** 3\n",
    "I_xy_power_3d_flattened = I_xy_power_3d.flatten()\n",
    "\n",
    "I_xz_delta_fft = np.fft.rfftn(I_xz_trace_free)\n",
    "I_xz_power_3d = np.conj(I_xz_delta_fft)*I_xz_delta_fft * L_box ** 3\n",
    "I_xz_power_3d_flattened = I_xz_power_3d.flatten()\n",
    "\n",
    "I_yy_delta_fft = np.fft.rfftn(I_yy_trace_free)\n",
    "I_yy_power_3d = np.conj(I_yy_delta_fft)*I_yy_delta_fft * L_box ** 3\n",
    "I_yy_power_3d_flattened = I_yy_power_3d.flatten()\n",
    "\n",
    "I_yz_delta_fft = np.fft.rfftn(I_yz_trace_free)\n",
    "I_yz_power_3d = np.conj(I_yz_delta_fft)*I_yz_delta_fft * L_box ** 3\n",
    "I_yz_power_3d_flattened = I_yz_power_3d.flatten()\n",
    "\n",
    "I_zz_delta_fft = np.fft.rfftn(I_zz_trace_free)\n",
    "I_zz_power_3d = np.conj(I_zz_delta_fft)*I_zz_delta_fft * L_box ** 3\n",
    "I_zz_power_3d_flattened = I_zz_power_3d.flatten()"
   ]
  },
  {
   "cell_type": "code",
   "execution_count": 78,
   "id": "956118e8",
   "metadata": {},
   "outputs": [
    {
     "data": {
      "text/plain": [
       "np.complex64(4.374895e+20-921799800000j)"
      ]
     },
     "execution_count": 78,
     "metadata": {},
     "output_type": "execute_result"
    }
   ],
   "source": [
    "np.max(I_xx_power_3d)"
   ]
  },
  {
   "cell_type": "code",
   "execution_count": 41,
   "id": "861422f0",
   "metadata": {},
   "outputs": [],
   "source": [
    "np.random.seed(42)\n",
    "three_numbers = np.random.rand(3)\n",
    "magnitude = np.linalg.norm(three_numbers)\n",
    "n_hat = three_numbers / magnitude"
   ]
  },
  {
   "cell_type": "code",
   "execution_count": 42,
   "id": "35ace029",
   "metadata": {},
   "outputs": [
    {
     "data": {
      "text/plain": [
       "array([0.29797254, 0.75635891, 0.58235175])"
      ]
     },
     "execution_count": 42,
     "metadata": {},
     "output_type": "execute_result"
    }
   ],
   "source": [
    "n_hat"
   ]
  },
  {
   "cell_type": "code",
   "execution_count": 43,
   "id": "cadb10e6",
   "metadata": {},
   "outputs": [],
   "source": [
    "k = np.where(k == 0, 1e-10, k)\n",
    "kx_hat = kx / k\n",
    "ky_hat = ky / k\n",
    "kz_hat = kz / k"
   ]
  },
  {
   "cell_type": "code",
   "execution_count": 44,
   "id": "f343ddfb",
   "metadata": {},
   "outputs": [],
   "source": [
    "#k = np.stack((kx, ky, kz), axis=-1)\n",
    "k_hat = np.stack((kx_hat, ky_hat, kz_hat), axis=-1)\n",
    "#k_cross_n = np.cross(k_hat, n_hat, axis=-1)\n",
    "#k_cross_n_mag = np.linalg.norm(k_cross_n, axis=-1, keepdims=True)\n",
    "#k_cross_n_mag[k_cross_n_mag == 0] = 1\n",
    "#e_1 = k_cross_n / k_cross_n_mag"
   ]
  },
  {
   "cell_type": "code",
   "execution_count": 28,
   "id": "f10c48a8",
   "metadata": {},
   "outputs": [
    {
     "data": {
      "text/plain": [
       "(512, 512, 257, 3)"
      ]
     },
     "execution_count": 28,
     "metadata": {},
     "output_type": "execute_result"
    }
   ],
   "source": [
    "e_1.shape \n",
    "#???????????"
   ]
  },
  {
   "cell_type": "code",
   "execution_count": 29,
   "id": "72fa7b02",
   "metadata": {},
   "outputs": [],
   "source": [
    "e_k = k_hat\n",
    "#e_2_lite = np.cross(k_hat[0], e_1[0], axis=-1)"
   ]
  },
  {
   "cell_type": "code",
   "execution_count": 30,
   "id": "b1e9ce7c",
   "metadata": {},
   "outputs": [
    {
     "data": {
      "text/plain": [
       "(512, 512, 257, 3)"
      ]
     },
     "execution_count": 30,
     "metadata": {},
     "output_type": "execute_result"
    }
   ],
   "source": [
    "k_hat = np.stack((kx_hat, ky_hat, kz_hat), axis=-1)\n",
    "k_hat.shape"
   ]
  },
  {
   "cell_type": "code",
   "execution_count": 36,
   "id": "c3272788",
   "metadata": {},
   "outputs": [],
   "source": [
    "e_2 = np.cross(k_hat, e_1, axis=-1)"
   ]
  },
  {
   "cell_type": "code",
   "execution_count": 38,
   "id": "2a1799bb",
   "metadata": {},
   "outputs": [],
   "source": [
    "np.savez('helicity_basis.npz', array1=e_1, array2=e_2, array3=e_k)"
   ]
  },
  {
   "cell_type": "code",
   "execution_count": 45,
   "id": "0a61695d",
   "metadata": {},
   "outputs": [],
   "source": [
    "basis_vectors = np.load('helicity_basis.npz')\n",
    "e_1 = basis_vectors['array1']\n",
    "e_2 = basis_vectors['array2']\n",
    "e_k = basis_vectors['array3']"
   ]
  },
  {
   "cell_type": "code",
   "execution_count": null,
   "id": "43e5e644",
   "metadata": {},
   "outputs": [],
   "source": [
    "inertia_flattened = "
   ]
  },
  {
   "cell_type": "code",
   "execution_count": 24,
   "id": "041aef53",
   "metadata": {},
   "outputs": [],
   "source": [
    "np.savez('k_hat.npz', array1=k_hat, array2=e_plus, array3=e_minus)"
   ]
  },
  {
   "cell_type": "code",
   "execution_count": 25,
   "id": "278b9813",
   "metadata": {},
   "outputs": [],
   "source": [
    "np.savez('inertia_flattened.npz', array1=I_xx_power_3d_flattened, array2=I_xy_power_3d_flattened, array3=I_xz_power_3d_flattened, array4=I_yy_power_3d_flattened, array5=I_yz_power_3d_flattened, array6=I_zz_power_3d_flattened)"
   ]
  },
  {
   "cell_type": "code",
   "execution_count": 22,
   "id": "8496b211",
   "metadata": {},
   "outputs": [],
   "source": [
    "e_plus = (1 / np.sqrt(2)) * (e_1 - 1j * e_2)\n",
    "e_minus = (1 / np.sqrt(2)) * (e_1 + 1j * e_2)"
   ]
  },
  {
   "cell_type": "code",
   "execution_count": 26,
   "id": "1030f4d8",
   "metadata": {},
   "outputs": [],
   "source": [
    "I_00 = np.sqrt(1/3) * (I_xx_power_3d_flattened + I_yy_power_3d_flattened + I_zz_power_3d_flattened)"
   ]
  },
  {
   "cell_type": "code",
   "execution_count": 27,
   "id": "7ebbeb32",
   "metadata": {},
   "outputs": [],
   "source": [
    "I_20 = np.sqrt(3/2) * (k_hat[:,:, :, 0].flatten() ** 2 - (1/3)) * I_xx_power_3d_flattened\n",
    "I_20 += np.sqrt(3/2) * (k_hat[:,:, :, 1].flatten() ** 2 - (1/3))  * I_yy_power_3d_flattened\n",
    "I_20 += np.sqrt(3/2) * (k_hat[:,:, :, 2].flatten() ** 2 - (1/3)) * I_zz_power_3d_flattened\n",
    "I_20 += 2 * np.sqrt(3/2) * (k_hat[:,:, :, 0].flatten() * k_hat[:,:, :, 1].flatten() * I_xy_power_3d_flattened)\n",
    "I_20 += 2 * np.sqrt(3/2) * (k_hat[:,:, :, 0].flatten() * k_hat[:,:, :, 2].flatten() * I_xz_power_3d_flattened)\n",
    "I_20 += 2 * np.sqrt(3/2) * (k_hat[:,:, :, 1].flatten() * k_hat[:,:, :, 2].flatten() * I_yz_power_3d_flattened)"
   ]
  },
  {
   "cell_type": "code",
   "execution_count": 28,
   "id": "c3efb940",
   "metadata": {},
   "outputs": [],
   "source": [
    "I_21minus = np.sqrt(1/2) * (k_hat[:,:, :, 0].flatten() * e_plus[:,:, :, 0].flatten() + k_hat[:,:, :, 0].flatten() * e_plus[:,:, :, 0].flatten()) *  I_xx_power_3d_flattened\n",
    "I_21minus += 2 * np.sqrt(1/2) * (k_hat[:,:, :, 0].flatten() * e_plus[:,:, :, 1].flatten() + k_hat[:,:, :, 1].flatten() * e_plus[:,:, :, 0].flatten()) * I_xy_power_3d_flattened\n",
    "I_21minus += 2 * np.sqrt(1/2) * (k_hat[:,:, :, 0].flatten() * e_plus[:,:, :, 2].flatten() + k_hat[:,:, :, 2].flatten() * e_plus[:,:, :, 0].flatten()) * I_xz_power_3d_flattened\n",
    "I_21minus += np.sqrt(1/2) * (k_hat[:,:, :, 1].flatten() * e_plus[:,:, :, 1].flatten() + k_hat[:,:, :, 1].flatten() * e_plus[:,:, :, 1].flatten()) * I_yy_power_3d_flattened\n",
    "I_21minus += 2 * np.sqrt(1/2) * (k_hat[:,:, :, 1].flatten() * e_plus[:,:, :, 2].flatten() + k_hat[:,:, :, 2].flatten() * e_plus[:,:, :, 1].flatten()) * I_yz_power_3d_flattened\n",
    "I_21minus += np.sqrt(1/2) * (k_hat[:,:, :, 2].flatten() * e_plus[:,:, :, 2].flatten() + k_hat[:,:, :, 2].flatten() * e_plus[:,:, :, 2].flatten()) * I_zz_power_3d_flattened                       "
   ]
  },
  {
   "cell_type": "code",
   "execution_count": 29,
   "id": "96c78415",
   "metadata": {},
   "outputs": [],
   "source": [
    "I_21plus = np.sqrt(1/2) * (k_hat[:,:, :, 0].flatten() * e_minus[:,:, :, 0].flatten() + k_hat[:,:, :, 0].flatten() * e_minus[:,:, :, 0].flatten()) * I_xx_power_3d_flattened\n",
    "I_21plus += np.sqrt(1/2) * (k_hat[:,:, :, 0].flatten() * e_minus[:,:, :, 1].flatten() + k_hat[:,:, :, 1].flatten() * e_minus[:,:, :, 0].flatten()) * I_xy_power_3d_flattened\n",
    "I_21plus += np.sqrt(1/2) * (k_hat[:,:, :, 0].flatten() * e_minus[:,:, :, 2].flatten() + k_hat[:,:, :, 2].flatten() * e_minus[:,:, :, 0].flatten()) * I_xz_power_3d_flattened\n",
    "I_21plus += np.sqrt(1/2) * (k_hat[:,:, :, 1].flatten() * e_minus[:,:, :, 1].flatten() + k_hat[:,:, :, 1].flatten() * e_minus[:,:, :, 1].flatten()) * I_yy_power_3d_flattened\n",
    "I_21plus += np.sqrt(1/2) * (k_hat[:,:, :, 1].flatten() * e_minus[:,:, :, 2].flatten() + k_hat[:,:, :, 2].flatten() * e_minus[:,:, :, 1].flatten()) * I_yz_power_3d_flattened\n",
    "I_21plus += np.sqrt(1/2) * (k_hat[:,:, :, 2].flatten() * e_minus[:,:, :, 2].flatten() + k_hat[:,:, :, 2].flatten() * e_minus[:,:, :, 2].flatten()) * I_zz_power_3d_flattened                       "
   ]
  },
  {
   "cell_type": "code",
   "execution_count": 30,
   "id": "c82c9053",
   "metadata": {},
   "outputs": [],
   "source": [
    "I_22minus = (e_plus[:,:, :, 0].flatten() * e_plus[:,:, :, 0].flatten()) * I_xx_power_3d_flattened\n",
    "I_22minus += (e_plus[:,:, :, 0].flatten() * e_plus[:,:, :, 1].flatten()) * I_xy_power_3d_flattened\n",
    "I_22minus += (e_plus[:,:, :, 0].flatten() * e_plus[:,:, :, 2].flatten()) * I_xz_power_3d_flattened\n",
    "I_22minus += (e_plus[:,:, :, 1].flatten() * e_plus[:,:, :, 1].flatten()) * I_yy_power_3d_flattened\n",
    "I_22minus += (e_plus[:,:, :, 1].flatten() * e_plus[:,:, :, 2].flatten()) * I_yz_power_3d_flattened\n",
    "I_22minus += (e_plus[:,:, :, 2].flatten() * e_plus[:,:, :, 2].flatten()) * I_zz_power_3d_flattened"
   ]
  },
  {
   "cell_type": "code",
   "execution_count": 31,
   "id": "f3f0ad74",
   "metadata": {},
   "outputs": [],
   "source": [
    "I_22plus = (e_minus[:,:, :, 0].flatten() * e_minus[:,:, :, 0].flatten()) * I_xx_power_3d_flattened\n",
    "I_22plus += (e_minus[:,:, :, 0].flatten() * e_minus[:,:, :, 1].flatten()) * I_xy_power_3d_flattened\n",
    "I_22plus += (e_minus[:,:, :, 0].flatten() * e_minus[:,:, :, 2].flatten()) * I_xz_power_3d_flattened\n",
    "I_22plus += (e_minus[:,:, :, 1].flatten() * e_minus[:,:, :, 1].flatten()) * I_yy_power_3d_flattened\n",
    "I_22plus += (e_minus[:,:, :, 1].flatten() * e_minus[:,:, :, 2].flatten()) * I_yz_power_3d_flattened\n",
    "I_22plus += (e_minus[:,:, :, 2].flatten() * e_minus[:,:, :, 2].flatten()) * I_zz_power_3d_flattened"
   ]
  },
  {
   "cell_type": "code",
   "execution_count": 74,
   "id": "42cd2221",
   "metadata": {},
   "outputs": [
    {
     "data": {
      "text/plain": [
       "(512, 512, 257, 3)"
      ]
     },
     "execution_count": 74,
     "metadata": {},
     "output_type": "execute_result"
    }
   ],
   "source": [
    "k.shape"
   ]
  },
  {
   "cell_type": "code",
   "execution_count": 77,
   "id": "179419a8",
   "metadata": {},
   "outputs": [
    {
     "data": {
      "text/plain": [
       "803"
      ]
     },
     "execution_count": 77,
     "metadata": {},
     "output_type": "execute_result"
    }
   ],
   "source": [
    "import gc\n",
    "\n",
    "a = np.arange(10)\n",
    "del a\n",
    "gc.collect()"
   ]
  },
  {
   "cell_type": "code",
   "execution_count": 80,
   "id": "de35e5d8",
   "metadata": {},
   "outputs": [
    {
     "data": {
      "text/plain": [
       "(67371008,)"
      ]
     },
     "execution_count": 80,
     "metadata": {},
     "output_type": "execute_result"
    }
   ],
   "source": [
    "I_00.shape"
   ]
  },
  {
   "cell_type": "code",
   "execution_count": null,
   "id": "7ac86e6d",
   "metadata": {},
   "outputs": [],
   "source": [
    "#remember factor of two in the non diagonal terms, and then switch my plus minus components b/c i'm taking conjugate\n",
    "#P(00) is delta galaxy, use d_gal not P_00"
   ]
  },
  {
   "cell_type": "code",
   "execution_count": 32,
   "id": "68302507",
   "metadata": {},
   "outputs": [],
   "source": [
    "np.savez('inertia_legendres', array1=I_00, array2=I_20, array3=I_21minus, array4=I_21plus, array5=I_22minus, array6=I_22plus)"
   ]
  },
  {
   "cell_type": "code",
   "execution_count": 33,
   "id": "e5d7b3f6",
   "metadata": {},
   "outputs": [],
   "source": [
    "from abacusnbody.analysis.power_spectrum import calc_pk_from_deltak"
   ]
  },
  {
   "cell_type": "code",
   "execution_count": 34,
   "id": "df77865d",
   "metadata": {},
   "outputs": [],
   "source": [
    "from scipy import stats\n",
    "bin_means, bin_edges, binnumber = stats.binned_statistic(\n",
    "    k_flat, I_00, statistic='mean', bins=k_space_bins)"
   ]
  },
  {
   "cell_type": "code",
   "execution_count": 55,
   "id": "38131ed8",
   "metadata": {},
   "outputs": [],
   "source": [
    "power_0020 = calc_pk_from_deltak(field_fft=I_00.reshape(512, 512, 512//2+1), Lbox=500, k_bin_edges=bin_edges, mu_bin_edges=np.array([0, 1]))#, field2_fft=I_00.reshape(512, 512, 512//2+1))"
   ]
  },
  {
   "cell_type": "code",
   "execution_count": 39,
   "id": "a208114a",
   "metadata": {},
   "outputs": [
    {
     "data": {
      "text/plain": [
       "(512, 512, 512)"
      ]
     },
     "execution_count": 39,
     "metadata": {},
     "output_type": "execute_result"
    }
   ],
   "source": [
    "N_gal.shape"
   ]
  },
  {
   "cell_type": "code",
   "execution_count": 40,
   "id": "51852007",
   "metadata": {},
   "outputs": [
    {
     "data": {
      "text/plain": [
       "(67371008,)"
      ]
     },
     "execution_count": 40,
     "metadata": {},
     "output_type": "execute_result"
    }
   ],
   "source": [
    "I_20.shape"
   ]
  },
  {
   "cell_type": "code",
   "execution_count": 42,
   "id": "689e9901",
   "metadata": {},
   "outputs": [
    {
     "data": {
      "text/plain": [
       "(67371008,)"
      ]
     },
     "execution_count": 42,
     "metadata": {},
     "output_type": "execute_result"
    }
   ],
   "source": [
    "I_00.shape"
   ]
  },
  {
   "cell_type": "code",
   "execution_count": 56,
   "id": "6dfca1b7",
   "metadata": {},
   "outputs": [
    {
     "data": {
      "text/plain": [
       "{'power': array([inf, inf, inf, inf, inf, inf, inf, inf, inf, inf, inf, inf, inf,\n",
       "        inf, inf, inf, inf, inf, inf, inf, inf, inf, inf, inf, inf, inf,\n",
       "        inf, inf, inf, inf, inf, inf, inf, inf, inf, inf, inf, inf, inf,\n",
       "        inf], dtype=float32),\n",
       " 'N_mode': array([    27,    224,    644,   1208,   1964,   3056,   4000,   5756,\n",
       "          6992,   9116,  10832,  13232,  15404,  17992,  20876,  23720,\n",
       "         26888,  30236,  34208,  37412,  41560,  45992,  50132,  54392,\n",
       "         59012,  65216,  68848,  75356,  79448,  87044,  91664,  98300,\n",
       "        105152, 110488, 117140, 125696, 132284, 138272, 146720, 154364]),\n",
       " 'binned_poles': array([], shape=(0, 40), dtype=float32),\n",
       " 'N_mode_poles': array([    27,    224,    644,   1208,   1964,   3056,   4000,   5756,\n",
       "          6992,   9116,  10832,  13232,  15404,  17992,  20876,  23720,\n",
       "         26888,  30236,  34208,  37412,  41560,  45992,  50132,  54392,\n",
       "         59012,  65216,  68848,  75356,  79448,  87044,  91664,  98300,\n",
       "        105152, 110488, 117140, 125696, 132284, 138272, 146720, 154364]),\n",
       " 'k_avg': array([0.01714005, 0.03914276, 0.06396795, 0.08864114, 0.11306394,\n",
       "        0.13797349, 0.1625957 , 0.18759386, 0.21268444, 0.23769838,\n",
       "        0.26279908, 0.28784278, 0.3128659 , 0.33778024, 0.36275205,\n",
       "        0.38774833, 0.4126684 , 0.43762216, 0.4627134 , 0.4877383 ,\n",
       "        0.51265377, 0.53769374, 0.5627684 , 0.58769864, 0.61256474,\n",
       "        0.6376525 , 0.6626835 , 0.6876578 , 0.71258867, 0.7375932 ,\n",
       "        0.76265424, 0.7876198 , 0.81269324, 0.83770525, 0.8625706 ,\n",
       "        0.88760316, 0.9127321 , 0.9376885 , 0.9626093 , 0.9876064 ],\n",
       "       dtype=float32)}"
      ]
     },
     "execution_count": 56,
     "metadata": {},
     "output_type": "execute_result"
    }
   ],
   "source": [
    "power_0020"
   ]
  },
  {
   "cell_type": "code",
   "execution_count": 49,
   "id": "ae7c0645",
   "metadata": {},
   "outputs": [
    {
     "data": {
      "text/plain": [
       "<function abacusnbody.analysis.power_spectrum.calc_pk_from_deltak(field_fft, Lbox, k_bin_edges, mu_bin_edges, field2_fft=None, poles=array([], dtype=int64), squeeze_mu_axis=True, nthread=10)>"
      ]
     },
     "execution_count": 49,
     "metadata": {},
     "output_type": "execute_result"
    }
   ],
   "source": [
    "calc_pk_from_deltak"
   ]
  },
  {
   "cell_type": "code",
   "execution_count": 50,
   "id": "600e2a50",
   "metadata": {},
   "outputs": [
    {
     "data": {
      "text/plain": [
       "array([0.   , 0.025, 0.05 , 0.075, 0.1  , 0.125, 0.15 , 0.175, 0.2  ,\n",
       "       0.225, 0.25 , 0.275, 0.3  , 0.325, 0.35 , 0.375, 0.4  , 0.425,\n",
       "       0.45 , 0.475, 0.5  , 0.525, 0.55 , 0.575, 0.6  , 0.625, 0.65 ,\n",
       "       0.675, 0.7  , 0.725, 0.75 , 0.775, 0.8  , 0.825, 0.85 , 0.875,\n",
       "       0.9  , 0.925, 0.95 , 0.975, 1.   ])"
      ]
     },
     "execution_count": 50,
     "metadata": {},
     "output_type": "execute_result"
    }
   ],
   "source": [
    "bin_edges"
   ]
  },
  {
   "cell_type": "code",
   "execution_count": 51,
   "id": "c7aba10d",
   "metadata": {},
   "outputs": [
    {
     "data": {
      "text/plain": [
       "array([[[1.35337572e+12+0.00000000e+00j, 1.26701484e+20-5.98887179e+11j,\n",
       "         1.01390423e+20+1.34719417e+12j, ...,\n",
       "         6.83646563e+18-2.17936413e+09j, 4.45545798e+18-4.61892039e+09j,\n",
       "         3.93259193e+19+0.00000000e+00j],\n",
       "        [2.75134988e+19-6.48138933e+10j, 1.04537605e+20-1.53872009e+11j,\n",
       "         2.03585022e+19-3.59916763e+10j, ...,\n",
       "         2.36676063e+19+6.25627485e+10j, 3.74857019e+18-1.05192694e+09j,\n",
       "         2.80190613e+19+1.64351180e+11j],\n",
       "        [7.20003489e+19+7.35886244e+11j, 1.38024253e+20+1.32503821e+12j,\n",
       "         5.24027715e+19-7.30266507e+11j, ...,\n",
       "         1.83885056e+19-1.59194245e+10j, 1.19589864e+19-2.30667041e+10j,\n",
       "         1.05073740e+19-2.76002826e+10j],\n",
       "        ...,\n",
       "        [5.38608640e+19+2.78829338e+11j, 9.80661356e+19-3.74984176e+11j,\n",
       "         7.89836680e+19+2.48972569e+11j, ...,\n",
       "         2.32703997e+19-6.68665203e+10j, 3.08428405e+18-3.14863527e+10j,\n",
       "         1.22849630e+19-1.25007755e+10j],\n",
       "        [7.20003489e+19-7.35886244e+11j, 3.10047394e+19-1.39023546e+11j,\n",
       "         5.90669318e+19-1.39488764e+11j, ...,\n",
       "         1.06574504e+19-1.83839027e+10j, 4.61038015e+18-1.02233457e+10j,\n",
       "         1.05073740e+19+2.76002826e+10j],\n",
       "        [2.75134988e+19+6.48138933e+10j, 7.53041346e+19+2.27576884e+11j,\n",
       "         4.70124786e+19+5.58627158e+11j, ...,\n",
       "         1.07931701e+19-3.30678920e+09j, 1.09934238e+19+2.25087687e+11j,\n",
       "         2.80190613e+19-1.64351180e+11j]],\n",
       "\n",
       "       [[3.63394794e+19+4.95213630e+11j, 8.58504576e+19+2.35077916e+10j,\n",
       "         6.48125165e+19+1.02523496e+11j, ...,\n",
       "         6.12495329e+18-8.13126684e+09j, 7.20341116e+18-1.76083370e+08j,\n",
       "         4.17760107e+18-4.96160928e+08j],\n",
       "        [4.38216524e+19-1.41854768e+10j, 4.54369729e+19+2.08900514e+09j,\n",
       "         8.64087392e+19-5.15833254e+11j, ...,\n",
       "         8.82628271e+18+1.82374622e+11j, 3.03678590e+19-2.04440498e+11j,\n",
       "         2.27446784e+19-4.36574110e+10j],\n",
       "        [5.60495084e+19-7.10448427e+11j, 1.01996523e+20-9.11035450e+11j,\n",
       "         7.44835574e+19+1.10194295e+12j, ...,\n",
       "         1.30575340e+18+5.75019200e+09j, 3.63779605e+18-3.97683388e+09j,\n",
       "         5.69879712e+18-3.85792318e+10j],\n",
       "        ...,\n",
       "        [1.68108375e+20-1.77582881e+12j, 5.84243737e+19-2.37391691e+11j,\n",
       "         4.53736246e+19+6.36974444e+10j, ...,\n",
       "         4.99749560e+18-4.13409545e+08j, 9.85949242e+18-5.24994366e+10j,\n",
       "         2.03790051e+19+6.26969761e+10j],\n",
       "        [4.04946633e+19-3.34596256e+10j, 4.25126600e+19+7.32060389e+10j,\n",
       "         4.21576830e+19-1.44836091e+11j, ...,\n",
       "         9.52734364e+18-3.96047957e+10j, 1.25185147e+19+1.65367545e+11j,\n",
       "         4.17027861e+18+8.38630926e+09j],\n",
       "        [1.88103705e+20+9.23956475e+09j, 2.73656328e+19-1.61361112e+11j,\n",
       "         6.29452704e+19+2.59665010e+11j, ...,\n",
       "         9.27533687e+18+1.40743252e+09j, 1.48208334e+19+7.24403884e+10j,\n",
       "         1.16665338e+19-6.26552227e+10j]],\n",
       "\n",
       "       [[1.15532287e+20-6.38637456e+11j, 2.46152357e+19-1.63967738e+11j,\n",
       "         9.11673672e+19+5.57019000e+11j, ...,\n",
       "         2.29329053e+19+3.20891243e+11j, 8.69537229e+18+1.27892571e+10j,\n",
       "         1.40223740e+19+3.60833133e+10j],\n",
       "        [1.43264976e+20-5.25469980e+11j, 7.13208910e+18+1.86394458e+10j,\n",
       "         7.91400785e+19-5.88280344e+11j, ...,\n",
       "         1.30989345e+19-8.20934041e+09j, 1.27611759e+19+1.72006001e+10j,\n",
       "         1.48578640e+19+1.21666881e+10j],\n",
       "        [4.07270953e+19-4.21541380e+10j, 6.18880054e+18-3.43574350e+09j,\n",
       "         1.04814136e+20-1.67976800e+11j, ...,\n",
       "         1.88700827e+19-5.13450417e+10j, 1.62981871e+19+4.31780843e+10j,\n",
       "         1.11380206e+19+9.46751181e+10j],\n",
       "        ...,\n",
       "        [5.65496471e+19-2.74943966e+11j, 2.11427624e+19+2.85431178e+11j,\n",
       "         4.73709241e+19+2.24887793e+11j, ...,\n",
       "         2.78013929e+18-2.16912523e+10j, 2.04449256e+19-1.09323006e+11j,\n",
       "         1.00595774e+19-6.67360622e+10j],\n",
       "        [8.13341010e+19-7.24291271e+10j, 4.83571546e+19-3.18312788e+11j,\n",
       "         7.19565932e+19-5.48813733e+11j, ...,\n",
       "         2.95130608e+19+8.60479371e+10j, 1.39879854e+19+4.29155885e+10j,\n",
       "         1.57646654e+19-9.91512148e+10j],\n",
       "        [1.10642697e+20-1.94993242e+12j, 1.54927905e+19-2.24416000e+10j,\n",
       "         5.10239532e+19+3.23261405e+11j, ...,\n",
       "         1.22991026e+19+4.23715743e+10j, 8.94354866e+18-2.64418581e+10j,\n",
       "         1.24536404e+19+1.08305260e+11j]],\n",
       "\n",
       "       ...,\n",
       "\n",
       "       [[9.75414529e+19+2.33777895e+11j, 2.58809726e+19-1.59791492e+11j,\n",
       "         7.68966429e+19-8.00848279e+10j, ...,\n",
       "         2.16283565e+19-9.69281358e+10j, 6.85754999e+18+2.01468006e+10j,\n",
       "         1.46592011e+19+5.21224596e+10j],\n",
       "        [3.36478066e+19-1.28311439e+11j, 8.06072411e+19-6.42514940e+11j,\n",
       "         3.96154480e+19-7.43477110e+10j, ...,\n",
       "         1.42472036e+19-7.50245717e+10j, 4.78674819e+18+1.24332336e+10j,\n",
       "         2.67794834e+19-1.26749187e+11j],\n",
       "        [5.36630288e+19-2.52663335e+10j, 1.02557882e+20+3.15701641e+11j,\n",
       "         8.01929481e+19-1.68597624e+10j, ...,\n",
       "         1.31133039e+19-2.81565916e+10j, 1.00483071e+19+1.02651754e+11j,\n",
       "         1.31207069e+19+3.31311133e+10j],\n",
       "        ...,\n",
       "        [2.13750039e+19+1.28690398e+11j, 5.65617033e+19-1.50752386e+11j,\n",
       "         4.00373002e+19-1.02945740e+11j, ...,\n",
       "         6.23092101e+18-2.39024244e+10j, 2.09555868e+19+6.17503265e+10j,\n",
       "         4.04835847e+19+1.39687277e+11j],\n",
       "        [9.66556838e+19-3.60579619e+11j, 8.25717288e+19+1.66388166e+11j,\n",
       "         6.42512589e+19+4.56931626e+11j, ...,\n",
       "         1.07574662e+19+6.47072680e+10j, 4.43383848e+18-3.70840110e+10j,\n",
       "         1.41317404e+19+4.81142249e+10j],\n",
       "        [1.33931430e+19-4.37751605e+10j, 1.40770107e+20-6.70474834e+11j,\n",
       "         6.27676397e+18-3.77931942e+10j, ...,\n",
       "         1.37207510e+19-2.46868516e+10j, 3.10376426e+18+8.49866986e+07j,\n",
       "         1.52589099e+19-1.05511889e+11j]],\n",
       "\n",
       "       [[1.15532287e+20+6.38637456e+11j, 8.20050120e+19-1.11938315e+11j,\n",
       "         9.68614922e+18+3.09479077e+10j, ...,\n",
       "         6.54105990e+18-3.54016402e+10j, 9.02038271e+18-1.66181220e+10j,\n",
       "         1.40223740e+19-3.60833133e+10j],\n",
       "        [1.10642697e+20+1.94993242e+12j, 2.74338996e+19+1.13843855e+11j,\n",
       "         8.84452391e+19+1.56761217e+10j, ...,\n",
       "         3.44278542e+18-6.52505526e+09j, 1.51440880e+19-1.19659569e+11j,\n",
       "         1.24536404e+19-1.08305260e+11j],\n",
       "        [8.13341010e+19+7.24291271e+10j, 2.57667791e+19-5.48609584e+09j,\n",
       "         2.47507078e+19-1.08519599e+11j, ...,\n",
       "         1.18419236e+19+2.23865090e+10j, 6.99239428e+18+8.28578299e+08j,\n",
       "         1.57646654e+19+9.91512148e+10j],\n",
       "        ...,\n",
       "        [1.03340864e+20-6.80124633e+10j, 1.50586056e+20+1.35567561e+12j,\n",
       "         6.09364936e+19+2.90784729e+11j, ...,\n",
       "         1.79587006e+19+1.11961396e+11j, 2.61029557e+19+1.35162228e+11j,\n",
       "         7.52039322e+18-4.88060124e+10j],\n",
       "        [4.07270953e+19+4.21541380e+10j, 4.03772628e+19-3.24285422e+10j,\n",
       "         7.24818447e+19-8.94486354e+11j, ...,\n",
       "         7.42619221e+18-4.40737423e+09j, 1.56729896e+19-3.48238563e+10j,\n",
       "         1.11380206e+19-9.46751181e+10j],\n",
       "        [1.43264976e+20+5.25469980e+11j, 7.09807634e+19-8.36963156e+10j,\n",
       "         1.08780915e+20-1.16076796e+12j, ...,\n",
       "         4.42764280e+18+1.76460720e+10j, 1.40302722e+19-4.26622494e+10j,\n",
       "         1.48578640e+19-1.21666881e+10j]],\n",
       "\n",
       "       [[3.63394794e+19-4.95213630e+11j, 5.05305181e+19+9.59694091e+09j,\n",
       "         1.76417514e+20-6.63312928e+11j, ...,\n",
       "         2.09539033e+19+1.89365295e+11j, 1.07024287e+19-1.56688617e+10j,\n",
       "         4.17760107e+18+4.96160928e+08j],\n",
       "        [1.88103705e+20-9.23956475e+09j, 2.90351631e+19-5.17658815e+10j,\n",
       "         1.60415168e+20+3.40947471e+11j, ...,\n",
       "         1.77184478e+19+4.76382941e+10j, 5.64078117e+18-3.55749465e+10j,\n",
       "         1.16665338e+19+6.26552227e+10j],\n",
       "        [4.04946633e+19+3.34596256e+10j, 1.12278059e+19-7.32944078e+10j,\n",
       "         6.81460110e+19+4.77300617e+11j, ...,\n",
       "         1.57467157e+19+1.23446044e+11j, 7.44590540e+18+5.06744856e+10j,\n",
       "         4.17027861e+18-8.38630926e+09j],\n",
       "        ...,\n",
       "        [7.54746022e+19-2.93242352e+11j, 1.09802847e+19-1.04671780e+11j,\n",
       "         5.58259713e+19+1.14027711e+10j, ...,\n",
       "         1.18388092e+19+4.76851555e+10j, 1.64845400e+19+1.93431568e+10j,\n",
       "         7.00240005e+18+9.40002888e+09j],\n",
       "        [5.60495084e+19+7.10448427e+11j, 1.91864179e+20-1.26744185e+12j,\n",
       "         7.34099678e+19-3.95843849e+09j, ...,\n",
       "         1.71995786e+19+9.57930001e+10j, 1.13509806e+19-8.35746547e+09j,\n",
       "         5.69879712e+18+3.85792318e+10j],\n",
       "        [4.38216524e+19+1.41854768e+10j, 1.89152019e+19-5.33139680e+10j,\n",
       "         7.66738929e+19-2.12231893e+10j, ...,\n",
       "         1.02694992e+19-1.38017397e+11j, 2.50548141e+19-8.54637587e+10j,\n",
       "         2.27446784e+19+4.36574110e+10j]]])"
      ]
     },
     "execution_count": 51,
     "metadata": {},
     "output_type": "execute_result"
    }
   ],
   "source": [
    "I_00.reshape(512, 512, 512//2+1)"
   ]
  },
  {
   "cell_type": "code",
   "execution_count": null,
   "id": "70a3a560",
   "metadata": {},
   "outputs": [],
   "source": []
  }
 ],
 "metadata": {
  "kernelspec": {
   "display_name": "Python (abacus_env)",
   "language": "python",
   "name": "abacus_env"
  },
  "language_info": {
   "codemirror_mode": {
    "name": "ipython",
    "version": 3
   },
   "file_extension": ".py",
   "mimetype": "text/x-python",
   "name": "python",
   "nbconvert_exporter": "python",
   "pygments_lexer": "ipython3",
   "version": "3.11.5"
  }
 },
 "nbformat": 4,
 "nbformat_minor": 5
}
